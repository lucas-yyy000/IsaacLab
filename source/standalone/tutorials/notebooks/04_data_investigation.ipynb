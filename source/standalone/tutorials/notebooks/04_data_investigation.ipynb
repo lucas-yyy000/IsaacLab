{
 "cells": [
  {
   "cell_type": "code",
   "execution_count": 27,
   "metadata": {},
   "outputs": [],
   "source": [
    "import numpy as np\n",
    "import json\n",
    "import os\n",
    "from scipy.spatial.transform import Rotation as R\n"
   ]
  },
  {
   "cell_type": "code",
   "execution_count": 5,
   "metadata": {},
   "outputs": [],
   "source": [
    "base_path = \"/home/lucas/Downloads/_out_sdrec\""
   ]
  },
  {
   "cell_type": "code",
   "execution_count": 6,
   "metadata": {},
   "outputs": [],
   "source": [
    "idx = 0\n",
    "camera_param_prefix = \"camera_params_\"\n",
    "camera_param_ext = \".json\"\n",
    "camera_param_path = os.path.join(base_path, camera_param_prefix + str(idx).zfill(4)  + camera_param_ext)\n",
    "with open(camera_param_path, 'r') as file:\n",
    "    camera_param = json.load(file)"
   ]
  },
  {
   "cell_type": "code",
   "execution_count": 7,
   "metadata": {},
   "outputs": [
    {
     "data": {
      "text/plain": [
       "{'cameraAperture': [20.954999923706055, 15.290800094604492],\n",
       " 'cameraApertureOffset': [0.0, 0.0],\n",
       " 'cameraFisheyeLensP': [],\n",
       " 'cameraFisheyeLensS': [],\n",
       " 'cameraFisheyeMaxFOV': 0.0,\n",
       " 'cameraFisheyeNominalHeight': 0,\n",
       " 'cameraFisheyeNominalWidth': 0,\n",
       " 'cameraFisheyeOpticalCentre': [0.0, 0.0],\n",
       " 'cameraFisheyePolynomial': [0.0, 0.0, 0.0, 0.0, 0.0, 0.0],\n",
       " 'cameraFocalLength': 24.0,\n",
       " 'cameraFocusDistance': 400.0,\n",
       " 'cameraFStop': 0.0,\n",
       " 'cameraModel': 'pinhole',\n",
       " 'cameraNearFar': [1.0, 1000000.0],\n",
       " 'cameraProjection': [2.2906228624246854,\n",
       "  0.0,\n",
       "  0.0,\n",
       "  0.0,\n",
       "  0.0,\n",
       "  2.2906228624246854,\n",
       "  0.0,\n",
       "  0.0,\n",
       "  0.0,\n",
       "  0.0,\n",
       "  1.000001000001e-06,\n",
       "  -1.0,\n",
       "  0.0,\n",
       "  0.0,\n",
       "  1.000001000001,\n",
       "  0.0],\n",
       " 'cameraViewTransform': [0.0047262735847906495,\n",
       "  -2.2204212493251523e-16,\n",
       "  0.9999888311066287,\n",
       "  0.0,\n",
       "  0.9999888311066287,\n",
       "  1.0494435509024512e-18,\n",
       "  -0.0047262735847906495,\n",
       "  0.0,\n",
       "  0.0,\n",
       "  1.0,\n",
       "  2.220446049250313e-16,\n",
       "  -0.0,\n",
       "  -11.941387335661105,\n",
       "  -40.316699981689446,\n",
       "  -24.576236738532632,\n",
       "  1.0],\n",
       " 'metersPerSceneUnit': 1.0,\n",
       " 'renderProductResolution': [512, 512]}"
      ]
     },
     "execution_count": 7,
     "metadata": {},
     "output_type": "execute_result"
    }
   ],
   "source": [
    "camera_param"
   ]
  },
  {
   "cell_type": "code",
   "execution_count": 22,
   "metadata": {},
   "outputs": [],
   "source": [
    "camera_pose = camera_param['cameraViewTransform']\n",
    "# camera_pose = np.linalg.inv(np.asarray(camera_pose).reshape(4, 4))\n",
    "camera_pose = np.asarray(camera_pose).reshape(4, 4).T"
   ]
  },
  {
   "cell_type": "code",
   "execution_count": 24,
   "metadata": {},
   "outputs": [],
   "source": [
    "camera_pose = np.linalg.inv(camera_pose)"
   ]
  },
  {
   "cell_type": "code",
   "execution_count": 25,
   "metadata": {},
   "outputs": [],
   "source": [
    "translation = camera_pose[:3, -1]\n",
    "rotation = camera_pose[:3, :3]"
   ]
  },
  {
   "cell_type": "code",
   "execution_count": 32,
   "metadata": {},
   "outputs": [
    {
     "data": {
      "text/plain": [
       "array([[ 4.72627358e-03, -2.22042125e-16,  9.99988831e-01],\n",
       "       [ 9.99988831e-01,  1.04944355e-18, -4.72627358e-03],\n",
       "       [ 0.00000000e+00,  1.00000000e+00,  2.22044605e-16]])"
      ]
     },
     "execution_count": 32,
     "metadata": {},
     "output_type": "execute_result"
    }
   ],
   "source": [
    "rotation"
   ]
  },
  {
   "cell_type": "code",
   "execution_count": 26,
   "metadata": {},
   "outputs": [
    {
     "data": {
      "text/plain": [
       "array([24.63240051, 11.82509995, 40.31669998])"
      ]
     },
     "execution_count": 26,
     "metadata": {},
     "output_type": "execute_result"
    }
   ],
   "source": [
    "translation"
   ]
  },
  {
   "cell_type": "code",
   "execution_count": 28,
   "metadata": {},
   "outputs": [],
   "source": [
    "quat = R.from_matrix(rotation).as_quat()"
   ]
  },
  {
   "cell_type": "code",
   "execution_count": 29,
   "metadata": {},
   "outputs": [
    {
     "data": {
      "text/plain": [
       "array([0.50118018, 0.49881703, 0.49881703, 0.50118018])"
      ]
     },
     "execution_count": 29,
     "metadata": {},
     "output_type": "execute_result"
    }
   ],
   "source": [
    "quat"
   ]
  },
  {
   "cell_type": "code",
   "execution_count": null,
   "metadata": {},
   "outputs": [],
   "source": []
  }
 ],
 "metadata": {
  "kernelspec": {
   "display_name": "isaac_lab",
   "language": "python",
   "name": "python3"
  },
  "language_info": {
   "codemirror_mode": {
    "name": "ipython",
    "version": 3
   },
   "file_extension": ".py",
   "mimetype": "text/x-python",
   "name": "python",
   "nbconvert_exporter": "python",
   "pygments_lexer": "ipython3",
   "version": "3.10.16"
  }
 },
 "nbformat": 4,
 "nbformat_minor": 2
}
